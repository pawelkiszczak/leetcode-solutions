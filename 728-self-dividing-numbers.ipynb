{
 "cells": [
  {
   "cell_type": "code",
   "execution_count": 17,
   "metadata": {},
   "outputs": [],
   "source": [
    "left = 66\n",
    "right = 708"
   ]
  },
  {
   "cell_type": "code",
   "execution_count": 26,
   "metadata": {},
   "outputs": [
    {
     "name": "stdout",
     "output_type": "stream",
     "text": [
      "[66, 77, 88, 99, 111, 112, 115, 122, 124, 126, 128, 132, 135, 144, 155, 162, 168, 175, 184, 212, 216, 222, 224, 244, 248, 264, 288, 312, 315, 324, 333, 336, 366, 384, 396, 412, 424, 432, 444, 448, 488, 515, 555, 612, 624, 636, 648, 666, 672]\n"
     ]
    }
   ],
   "source": [
    "results = []\n",
    "\n",
    "for number in range(left, right+1):\n",
    "        \n",
    "    #print(f\"Current number: {number}\")\n",
    "    check = 0\n",
    "    for digit in str(number):\n",
    "       if int(digit) == 0:\n",
    "          #print(\"Ignoring...\")\n",
    "          check += 1\n",
    "          pass\n",
    "       else:\n",
    "          #print(f\"{number} % {int(digit)} = {number%int(digit)}\")\n",
    "          check += number%int(digit)\n",
    "\n",
    "    #print(f\"Checksum: {check}\")\n",
    "    if check == 0:\n",
    "       #print(f\"Numer to be appended: {number}\")\n",
    "       results.append(number)\n",
    "\n",
    "print(results)"
   ]
  }
 ],
 "metadata": {
  "kernelspec": {
   "display_name": "Python 3",
   "language": "python",
   "name": "python3"
  },
  "language_info": {
   "codemirror_mode": {
    "name": "ipython",
    "version": 3
   },
   "file_extension": ".py",
   "mimetype": "text/x-python",
   "name": "python",
   "nbconvert_exporter": "python",
   "pygments_lexer": "ipython3",
   "version": "3.11.0"
  },
  "orig_nbformat": 4
 },
 "nbformat": 4,
 "nbformat_minor": 2
}
