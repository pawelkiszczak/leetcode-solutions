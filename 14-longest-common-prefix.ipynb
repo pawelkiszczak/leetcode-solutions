{
 "cells": [
  {
   "cell_type": "code",
   "execution_count": null,
   "metadata": {},
   "outputs": [],
   "source": [
    "Input: strs = [\"flower\",\"flow\",\"flight\"]\n",
    "Output: \"fl\""
   ]
  },
  {
   "cell_type": "code",
   "execution_count": null,
   "metadata": {},
   "outputs": [],
   "source": [
    "Input: strs = [\"dog\",\"racecar\",\"car\"]\n",
    "Output: \"\"\n",
    "Explanation: There is no common prefix among the input strings."
   ]
  },
  {
   "cell_type": "code",
   "execution_count": 53,
   "metadata": {},
   "outputs": [
    {
     "name": "stdout",
     "output_type": "stream",
     "text": [
      "\n"
     ]
    }
   ],
   "source": [
    "strs = ['reflower', 'flow', 'flight']\n",
    "#strs = [\"dog\",\"racecar\",\"car\"]\n",
    "parts = []\n",
    "test_dict = {}\n",
    "lcs = \"\"\n",
    "\n",
    "if len(strs) == 0:\n",
    "    print(\"\")\n",
    "\n",
    "for word in strs:\n",
    "    #for n, letter in enumerate(word):\n",
    "        for i in range(0, len(word)+1):\n",
    "            if word[:i] != \"\":\n",
    "                parts.append(word[:i]) \n",
    "            else: \n",
    "                pass\n",
    "            \n",
    "for i, part in enumerate(parts):\n",
    "    test_dict[parts[i]] = 0\n",
    "\n",
    "for part in parts:\n",
    "    test_dict[part] += 1\n",
    "    if test_dict[part] == len(strs):\n",
    "         if len(part) > len(lcs):\n",
    "              lcs = part\n",
    "\n",
    "print(lcs)"
   ]
  }
 ],
 "metadata": {
  "kernelspec": {
   "display_name": "Python 3",
   "language": "python",
   "name": "python3"
  },
  "language_info": {
   "codemirror_mode": {
    "name": "ipython",
    "version": 3
   },
   "file_extension": ".py",
   "mimetype": "text/x-python",
   "name": "python",
   "nbconvert_exporter": "python",
   "pygments_lexer": "ipython3",
   "version": "3.11.0"
  },
  "orig_nbformat": 4
 },
 "nbformat": 4,
 "nbformat_minor": 2
}
