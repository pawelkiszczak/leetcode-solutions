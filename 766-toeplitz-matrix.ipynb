{
 "cells": [
  {
   "cell_type": "markdown",
   "id": "74d8a2dd",
   "metadata": {},
   "source": [
    "## 766. Toeplitz Matrix"
   ]
  },
  {
   "cell_type": "markdown",
   "id": "9eacb765",
   "metadata": {},
   "source": [
    "Given a m x n matrix, return true if matrix is Toeplitz. Otherwise, return false.\n",
    "\n",
    "A matrix is Toeplitz if every diagonal from top-left to bottom right has the same elements."
   ]
  },
  {
   "cell_type": "code",
   "execution_count": 1,
   "id": "284dd743",
   "metadata": {},
   "outputs": [],
   "source": [
    "# Example\n",
    "# INPUT\n",
    "# matrix = [[1,2,3,4],[5,1,2,3],[9,5,1,2]]\n",
    "\n",
    "# OUTPUT \n",
    "# True\n",
    "\n",
    "# EXPLANATION\n",
    "# In the above grid, the diagonals are:\n",
    "# \"[9]\", \"[5, 5]\", \"[1, 1, 1]\", \"[2, 2, 2]\", \"[3, 3]\", \"[4]\".\n",
    "# In each diagonal all elements are the same, so the answer is True."
   ]
  },
  {
   "cell_type": "code",
   "execution_count": 63,
   "id": "4ac8de43",
   "metadata": {},
   "outputs": [
    {
     "name": "stdout",
     "output_type": "stream",
     "text": [
      "Dimensions of matrix\n",
      "Rows: 3\n",
      "Columns: 4\n",
      "\n",
      "\n",
      "Matrix printed in usual way\n",
      "\n",
      "\n",
      "Item in R0 C0 is: 1\n",
      "Item in R0 C1 is: 2\n",
      "Item in R0 C2 is: 3\n",
      "Item in R0 C3 is: 4\n",
      "\n",
      "\n",
      "Item in R1 C0 is: 5\n",
      "Item in R1 C1 is: 1\n",
      "Item in R1 C2 is: 2\n",
      "Item in R1 C3 is: 3\n",
      "\n",
      "\n",
      "Item in R2 C0 is: 9\n",
      "Item in R2 C1 is: 5\n",
      "Item in R2 C2 is: 1\n",
      "Item in R2 C3 is: 2\n",
      "Item at R1 C1 is 1 with its diagonal at R0 C0 equal to 1\n",
      "Item at R1 C2 is 2 with its diagonal at R0 C1 equal to 2\n",
      "Item at R1 C3 is 3 with its diagonal at R0 C2 equal to 3\n",
      "Item at R2 C1 is 5 with its diagonal at R1 C0 equal to 5\n",
      "Item at R2 C2 is 1 with its diagonal at R1 C1 equal to 1\n",
      "Item at R2 C3 is 2 with its diagonal at R1 C2 equal to 2\n",
      "Matrix is Toeplitz\n"
     ]
    }
   ],
   "source": [
    "# version 1\n",
    "matrix = [[1,2,3,4],[5,1,2,3],[9,5,1,2]]\n",
    "\n",
    "print('Dimensions of matrix')\n",
    "\n",
    "# check the length of the matrix -> find max col\n",
    "print(f'Rows: {len(matrix)}')\n",
    "\n",
    "# check the length of matrix[0] -> find max row\n",
    "print(f'Columns: {len(matrix[0])}')\n",
    "\n",
    "# all items in matrix\n",
    "print('\\n\\nMatrix printed in usual way')\n",
    "for r in range(0, len(matrix)):\n",
    "    print('\\n')\n",
    "    for c in range(0, len(matrix[r])):\n",
    "        print(f'Item in R{r} C{c} is: {matrix[r][c]}')\n",
    "        \n",
    "# defining a diagonal from top-left\n",
    "# in order of apperance\n",
    "# diagonal n: [r][c] = [value]\n",
    "# diagonal 1: [2][0] = [9]\n",
    "# diagonal 2: [1][0] [2][1] = [5][5]\n",
    "# diagonal 3: [0][0] [1][1] [2][2] = [1][1][1]\n",
    "# diagonal 4: [0][1] [1][2] [2][3] = [2][2][2]\n",
    "# diagonal 5: [0][2] [1][3] = [3][3]\n",
    "# diagonal 6: [0][3] = [4]\n",
    "\n",
    "# Diagonals with 1 item will always be true\n",
    "        \n",
    "# first row and column should not be iterated\n",
    "# we'll check the values with '-1' in row and column\n",
    "# if a value in [r][c] will not be equal to it's diagonal predecessor in [r-1][c-1]\n",
    "# we can return False\n",
    "# if we iterate through whole thing and do not return False\n",
    "# therefore the matrix is Toeplitz\n",
    "\n",
    "for r in range(1, len(matrix)):\n",
    "    for c in range(1, len(matrix[r])):\n",
    "        \n",
    "        print(f'Item at R{r} C{c} is {matrix[r][c]} with its diagonal at R{r-1} C{c-1} equal to {matrix[r-1][c-1]}')\n",
    "        \n",
    "        if matrix[r][c] != matrix[r-1][c-1]:\n",
    "            print('Matrix is not Toeplitz')\n",
    "    \n",
    "print('Matrix is Toeplitz')"
   ]
  },
  {
   "cell_type": "raw",
   "id": "e865ac7d",
   "metadata": {},
   "source": []
  }
 ],
 "metadata": {
  "kernelspec": {
   "display_name": "Python 3.8.13 ('tf')",
   "language": "python",
   "name": "python3"
  },
  "language_info": {
   "codemirror_mode": {
    "name": "ipython",
    "version": 3
   },
   "file_extension": ".py",
   "mimetype": "text/x-python",
   "name": "python",
   "nbconvert_exporter": "python",
   "pygments_lexer": "ipython3",
   "version": "3.8.13"
  },
  "vscode": {
   "interpreter": {
    "hash": "d367252aca884e23f81130dad2083ec3806b0ff7a53bcf4250eede2c3675ae7a"
   }
  }
 },
 "nbformat": 4,
 "nbformat_minor": 5
}
