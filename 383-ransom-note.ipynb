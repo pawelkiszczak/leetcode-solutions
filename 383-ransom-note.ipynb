{
 "cells": [
  {
   "cell_type": "markdown",
   "id": "480bd06c",
   "metadata": {},
   "source": [
    "## 383. Ransom Note"
   ]
  },
  {
   "cell_type": "markdown",
   "id": "52ddd893",
   "metadata": {},
   "source": [
    "Given two strings 'ransomNote' and 'magazine', return 'True' if 'ransomNote' can be constructed by using letters from magazine and 'false' when otherwise.\n",
    "Each letter in 'magazine' can only be used once in 'ransomNote'."
   ]
  },
  {
   "cell_type": "markdown",
   "id": "ddf01026",
   "metadata": {},
   "source": [
    "Example 1:\n",
    "<br> Input: ransomNote = 'a', magazine = 'b'\n",
    "<br> Output: false"
   ]
  },
  {
   "cell_type": "markdown",
   "id": "9cdd2b66",
   "metadata": {},
   "source": [
    "Example 2:\n",
    "<br>Input: ransomNote = 'aa', magazine ='aab'\n",
    "<br>Output: true"
   ]
  },
  {
   "cell_type": "code",
   "execution_count": 4,
   "id": "6970d1ae",
   "metadata": {},
   "outputs": [
    {
     "name": "stdout",
     "output_type": "stream",
     "text": [
      "['a', 'c', 'd']\n",
      "1\n"
     ]
    },
    {
     "ename": "IndexError",
     "evalue": "pop from empty list",
     "output_type": "error",
     "traceback": [
      "\u001b[0;31m---------------------------------------------------------------------------\u001b[0m",
      "\u001b[0;31mIndexError\u001b[0m                                Traceback (most recent call last)",
      "Cell \u001b[0;32mIn [4], line 17\u001b[0m\n\u001b[1;32m     15\u001b[0m \u001b[38;5;28;01mwhile\u001b[39;00m \u001b[38;5;28mlen\u001b[39m(ransomNote) \u001b[38;5;241m!=\u001b[39m \u001b[38;5;241m0\u001b[39m:\n\u001b[1;32m     16\u001b[0m     \u001b[38;5;28;01mif\u001b[39;00m ransomNote\u001b[38;5;241m.\u001b[39mpop() \u001b[38;5;129;01min\u001b[39;00m magazine:\n\u001b[0;32m---> 17\u001b[0m         magazine\u001b[38;5;241m.\u001b[39mremove(\u001b[43mransomNote\u001b[49m\u001b[38;5;241;43m.\u001b[39;49m\u001b[43mpop\u001b[49m\u001b[43m(\u001b[49m\u001b[43m)\u001b[49m)\n\u001b[1;32m     18\u001b[0m         \u001b[38;5;28mprint\u001b[39m(magazine)\n\u001b[1;32m     19\u001b[0m         \u001b[38;5;28mprint\u001b[39m(\u001b[38;5;28mlen\u001b[39m(ransomNote))\n",
      "\u001b[0;31mIndexError\u001b[0m: pop from empty list"
     ]
    }
   ],
   "source": [
    "# version 1\n",
    "# first thought is to check if set of ransomNote and magazine\n",
    "# are the same as this find letters that do not match\n",
    "# between two variables\n",
    "\n",
    "ransomNote = 'aabc'\n",
    "magazine = 'aabcd'\n",
    "\n",
    "# overwrite input values as sorted sets\n",
    "\n",
    "ransomNote = sorted(set(ransomNote))\n",
    "magazine = sorted(set(magazine))\n",
    "\n",
    "if len(magazine)>=len(ransomNote):\n",
    "    while len(ransomNote) != 0:\n",
    "        if ransomNote.pop() in magazine:\n",
    "            magazine.remove(ransomNote.pop())\n",
    "            print(magazine)\n",
    "            print(len(ransomNote))\n",
    "        else: \n",
    "            print('false')\n",
    "    print('true')\n",
    "\n",
    "else:\n",
    "    print('false')\n"
   ]
  },
  {
   "cell_type": "code",
   "execution_count": 22,
   "id": "457d8229",
   "metadata": {},
   "outputs": [
    {
     "name": "stdout",
     "output_type": "stream",
     "text": [
      "['a', 'a', 'b', 'c', 'x'] ['a', 'a', 'b', 'c', 'd']\n",
      "a\n",
      "a\n",
      "b\n",
      "c\n",
      "false\n",
      "['a', 'a', 'b', 'c', 'x'] ['d']\n"
     ]
    }
   ],
   "source": [
    "ransomNote = 'aabcx'\n",
    "magazine = 'aabcd'\n",
    "\n",
    "ransomNote = list(ransomNote)\n",
    "magazine = list(magazine)\n",
    "\n",
    "print(ransomNote, magazine)\n",
    "\n",
    "for letter in ransomNote:\n",
    "    if letter in magazine:\n",
    "        print(letter)\n",
    "        #ransomNote.remove(letter)\n",
    "        magazine.remove(letter)\n",
    "    else:\n",
    "        print('false')\n",
    "        \n",
    "    \n",
    "print(ransomNote, magazine)"
   ]
  },
  {
   "cell_type": "code",
   "execution_count": 27,
   "id": "72364ff2",
   "metadata": {},
   "outputs": [
    {
     "name": "stdout",
     "output_type": "stream",
     "text": [
      "false\n",
      "true\n"
     ]
    }
   ],
   "source": [
    "# final solution submitted\n",
    "# (exchange print for return)\n",
    "ransomNote = 'aabcx'\n",
    "magazine = 'aabcd'\n",
    "\n",
    "ransomNote = list(ransomNote)\n",
    "magazine = list(magazine)\n",
    "        \n",
    "for letter in ransomNote:\n",
    "    if letter in magazine:\n",
    "        magazine.remove(letter)\n",
    "    else:\n",
    "        #return False\n",
    "        print('false')\n",
    "#return True\n",
    "print('true')"
   ]
  },
  {
   "cell_type": "code",
   "execution_count": null,
   "id": "573ffd79",
   "metadata": {},
   "outputs": [],
   "source": []
  }
 ],
 "metadata": {
  "kernelspec": {
   "display_name": "Python 3.8.13 ('tf')",
   "language": "python",
   "name": "python3"
  },
  "language_info": {
   "codemirror_mode": {
    "name": "ipython",
    "version": 3
   },
   "file_extension": ".py",
   "mimetype": "text/x-python",
   "name": "python",
   "nbconvert_exporter": "python",
   "pygments_lexer": "ipython3",
   "version": "3.8.13"
  },
  "vscode": {
   "interpreter": {
    "hash": "d367252aca884e23f81130dad2083ec3806b0ff7a53bcf4250eede2c3675ae7a"
   }
  }
 },
 "nbformat": 4,
 "nbformat_minor": 5
}
