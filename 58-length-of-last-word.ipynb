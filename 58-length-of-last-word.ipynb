{
 "cells": [
  {
   "cell_type": "markdown",
   "metadata": {},
   "source": [
    "## 58. Length of Last Word\n",
    "Given a string <i>s</i> consisting of words and spaces, return the length of the <b>last</b> word in the string."
   ]
  },
  {
   "cell_type": "code",
   "execution_count": 2,
   "metadata": {},
   "outputs": [
    {
     "name": "stdout",
     "output_type": "stream",
     "text": [
      "4\n"
     ]
    }
   ],
   "source": [
    "s = '   fly me   to   the moon  '\n",
    "s = s.split()\n",
    "print (len(s[-1]))\n"
   ]
  },
  {
   "cell_type": "code",
   "execution_count": 32,
   "metadata": {},
   "outputs": [
    {
     "name": "stdout",
     "output_type": "stream",
     "text": [
      "4\n"
     ]
    }
   ],
   "source": [
    "s = '   fly me   to   the moon  '\n",
    "\n",
    "temp = 0\n",
    "words = []\n",
    "\n",
    "for letter in s:\n",
    "\tif letter != \" \":\n",
    "\t\ttemp += 1\n",
    "\t\t#print(i)\n",
    "\n",
    "\tif letter == \" \" and max < temp:\n",
    "\t\t\twords.append(temp)\n",
    "\t\t\ttemp = 0\n",
    "print(words[len(words)-1])"
   ]
  },
  {
   "cell_type": "code",
   "execution_count": 39,
   "metadata": {},
   "outputs": [
    {
     "name": "stdout",
     "output_type": "stream",
     "text": [
      "6\n"
     ]
    }
   ],
   "source": [
    "s = '   fly mdwasdasde   to   the moooon'\n",
    "\n",
    "last = temp = 0\n",
    "\n",
    "for i in s:\n",
    "\tif i != ' ':\n",
    "\t\ttemp += 1\n",
    "\n",
    "\tif i == ' ' and temp > 0:\n",
    "\t\tlast = temp\n",
    "\t\ttemp = 0\n",
    "\n",
    "if temp != 0:\n",
    "\tlast = temp\n",
    "print(last)"
   ]
  },
  {
   "cell_type": "code",
   "execution_count": null,
   "metadata": {},
   "outputs": [],
   "source": []
  }
 ],
 "metadata": {
  "kernelspec": {
   "display_name": "Python 3.10.4 64-bit",
   "language": "python",
   "name": "python3"
  },
  "language_info": {
   "codemirror_mode": {
    "name": "ipython",
    "version": 3
   },
   "file_extension": ".py",
   "mimetype": "text/x-python",
   "name": "python",
   "nbconvert_exporter": "python",
   "pygments_lexer": "ipython3",
   "version": "3.11.0"
  },
  "orig_nbformat": 4,
  "vscode": {
   "interpreter": {
    "hash": "aee8b7b246df8f9039afb4144a1f6fd8d2ca17a180786b69acc140d282b71a49"
   }
  }
 },
 "nbformat": 4,
 "nbformat_minor": 2
}
