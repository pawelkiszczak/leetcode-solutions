{
 "cells": [
  {
   "cell_type": "markdown",
   "metadata": {},
   "source": [
    "## 1 - Two Sum\n",
    "Given an array of integers <i>nums</i> and an integer <i>target</i>, return indices of the two numbers such that they add up to <i>target</i>.<br>\n",
    "You may assume that each input would have <b>exactly one solution</b> and you may not use the same element twice."
   ]
  },
  {
   "cell_type": "code",
   "execution_count": 5,
   "metadata": {},
   "outputs": [
    {
     "name": "stdout",
     "output_type": "stream",
     "text": [
      "0 1\n"
     ]
    }
   ],
   "source": [
    "def twoSum(nums, target):\n",
    "\t'''\n",
    "\t:type nums: List[int]\n",
    "\t:type target: int\n",
    "\t:rtype: List[int]\n",
    "\t'''\n",
    "\n",
    "nums = [2,7,11,15]\n",
    "target = 9\n",
    "\n",
    "i=0\n",
    "\n",
    "while i < len(nums):\n",
    "\tsearch = target - nums[i]\n",
    "\n",
    "\tfor j in range(i+1,len(nums)):\n",
    "\t\tif nums[j] == search:\n",
    "\t\t\tprint (i,j)\n",
    "\t\tj+=1\n",
    "\ti+=1"
   ]
  },
  {
   "cell_type": "code",
   "execution_count": 8,
   "metadata": {},
   "outputs": [
    {
     "name": "stdout",
     "output_type": "stream",
     "text": [
      "[1, 0]\n"
     ]
    }
   ],
   "source": [
    "nums = [2,7,11,15]\n",
    "target = 9\n",
    "\n",
    "# use a hash map (lookup table) to search if the value\n",
    "# has already been stored\n",
    "\n",
    "lut = {}\n",
    "\n",
    "for i in range(0, len(nums)):\n",
    "\tlut[nums[i]] = i\n",
    "\tsearch = target - nums[i]\n",
    "\n",
    "\tif search in lut:\n",
    "\t\tprint ([i, lut[search]])"
   ]
  },
  {
   "cell_type": "code",
   "execution_count": null,
   "metadata": {},
   "outputs": [],
   "source": [
    "hashmap = {}\n",
    "        for i in range(len(nums)):\n",
    "            complement = target - nums[i]\n",
    "            if complement in hashmap:\n",
    "                return [i, hashmap[complement]]\n",
    "            hashmap[nums[i]] = i"
   ]
  }
 ],
 "metadata": {
  "kernelspec": {
   "display_name": "Python 3.10.4 64-bit",
   "language": "python",
   "name": "python3"
  },
  "language_info": {
   "codemirror_mode": {
    "name": "ipython",
    "version": 3
   },
   "file_extension": ".py",
   "mimetype": "text/x-python",
   "name": "python",
   "nbconvert_exporter": "python",
   "pygments_lexer": "ipython3",
   "version": "3.11.0"
  },
  "orig_nbformat": 4,
  "vscode": {
   "interpreter": {
    "hash": "aee8b7b246df8f9039afb4144a1f6fd8d2ca17a180786b69acc140d282b71a49"
   }
  }
 },
 "nbformat": 4,
 "nbformat_minor": 2
}
